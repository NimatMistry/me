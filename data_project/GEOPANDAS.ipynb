{
 "cells": [
  {
   "cell_type": "code",
   "execution_count": 1,
   "metadata": {},
   "outputs": [],
   "source": [
    "import os\n",
    "import geopandas as gp\n",
    "import shapely\n",
    "import fiona\n",
    "import matplotlib\n",
    "import matplotlib.pyplot as plt\n",
    "import numpy as np\n",
    "import pandas as pd\n",
    "\n",
    "shp_file_name = \"NSW_LOCALITY_POLYGON_shp/NSW_LOCALITY_POLYGON_shp.shp\"\n",
    "zip_file_name = \"nsw_locality_polygon_shp.zip\"\n",
    "web_file_path = (\"https://data.gov.au/dataset/91e70237-d9d1-4719-a82f-e71b811154c6/resource/\"\n",
    "                 \"5e295412-357c-49a2-98d5-6caf099c2339/download/nsw_locality_polygon_shp.zip\")"
   ]
  },
  {
   "cell_type": "code",
   "execution_count": 2,
   "metadata": {},
   "outputs": [],
   "source": [
    "%matplotlib inline\n",
    "plt.rcParams['figure.figsize'] = (20, 10)"
   ]
  },
  {
   "cell_type": "code",
   "execution_count": 3,
   "metadata": {},
   "outputs": [],
   "source": [
    "def unzip_zipfile(zipped_file_path, put_it_here=\".\"):\n",
    "    import zipfile\n",
    "    zip_of_suburbs = zipfile.ZipFile(zipped_file_path, 'r')\n",
    "    zip_of_suburbs.extractall(put_it_here)\n",
    "    zip_of_suburbs.close()"
   ]
  },
  {
   "cell_type": "code",
   "execution_count": 4,
   "metadata": {},
   "outputs": [
    {
     "name": "stdout",
     "output_type": "stream",
     "text": [
      "loading from file\n",
      "done\n"
     ]
    }
   ],
   "source": [
    "# Get the data loaded. This is a bit complicated because it's online as a zip file.\n",
    "# If we don't have it right now, we need to get it and unzip it.\n",
    "if os.path.isfile(shp_file_name):\n",
    "    print(\"loading from file\")\n",
    "else:\n",
    "    if os.path.isfile(zip_file_name):\n",
    "        print(\"unzipping\")\n",
    "        unzip_zipfile(zip_file_name)\n",
    "    else:\n",
    "        import requests\n",
    "        print(\"loading from the internet\")\n",
    "        page = requests.get(web_file_path)\n",
    "        with open(zip_file_name, 'wb') as z:\n",
    "            z.write(page.content)\n",
    "        unzip_zipfile(zip_file_name)\n",
    "\n",
    "print(\"done\")"
   ]
  },
  {
   "cell_type": "code",
   "execution_count": 5,
   "metadata": {},
   "outputs": [
    {
     "data": {
      "text/html": [
       "<div>\n",
       "<style scoped>\n",
       "    .dataframe tbody tr th:only-of-type {\n",
       "        vertical-align: middle;\n",
       "    }\n",
       "\n",
       "    .dataframe tbody tr th {\n",
       "        vertical-align: top;\n",
       "    }\n",
       "\n",
       "    .dataframe thead th {\n",
       "        text-align: right;\n",
       "    }\n",
       "</style>\n",
       "<table border=\"1\" class=\"dataframe\">\n",
       "  <thead>\n",
       "    <tr style=\"text-align: right;\">\n",
       "      <th></th>\n",
       "      <th>LC_PLY_PID</th>\n",
       "      <th>DT_CREATE</th>\n",
       "      <th>LOC_PID</th>\n",
       "      <th>NSW_LOCALI</th>\n",
       "      <th>NSW_LOCA_2</th>\n",
       "      <th>NSW_LOCA_5</th>\n",
       "      <th>NSW_LOCA_6</th>\n",
       "      <th>NSW_LOCA_7</th>\n",
       "      <th>geometry</th>\n",
       "    </tr>\n",
       "  </thead>\n",
       "  <tbody>\n",
       "    <tr>\n",
       "      <th>0</th>\n",
       "      <td>25065</td>\n",
       "      <td>2015-09-03</td>\n",
       "      <td>NSW2557</td>\n",
       "      <td>2015-11-10</td>\n",
       "      <td>MAYFIELD WEST</td>\n",
       "      <td>G</td>\n",
       "      <td>None</td>\n",
       "      <td>1</td>\n",
       "      <td>POLYGON ((151.73344571654 -32.87974104891, 151...</td>\n",
       "    </tr>\n",
       "    <tr>\n",
       "      <th>1</th>\n",
       "      <td>16193</td>\n",
       "      <td>2011-11-22</td>\n",
       "      <td>NSW4136</td>\n",
       "      <td>2012-02-04</td>\n",
       "      <td>WALLACETOWN</td>\n",
       "      <td>G</td>\n",
       "      <td>None</td>\n",
       "      <td>1</td>\n",
       "      <td>POLYGON ((147.450924738497 -34.9651865379095, ...</td>\n",
       "    </tr>\n",
       "  </tbody>\n",
       "</table>\n",
       "</div>"
      ],
      "text/plain": [
       "  LC_PLY_PID   DT_CREATE  LOC_PID  NSW_LOCALI     NSW_LOCA_2 NSW_LOCA_5  \\\n",
       "0      25065  2015-09-03  NSW2557  2015-11-10  MAYFIELD WEST          G   \n",
       "1      16193  2011-11-22  NSW4136  2012-02-04    WALLACETOWN          G   \n",
       "\n",
       "  NSW_LOCA_6 NSW_LOCA_7                                           geometry  \n",
       "0       None          1  POLYGON ((151.73344571654 -32.87974104891, 151...  \n",
       "1       None          1  POLYGON ((147.450924738497 -34.9651865379095, ...  "
      ]
     },
     "execution_count": 5,
     "metadata": {},
     "output_type": "execute_result"
    }
   ],
   "source": [
    "burbs = gp.GeoDataFrame.from_file(shp_file_name)\n",
    "burbs.drop([\"NSW_LOCA_1\", \"NSW_LOCA_3\", \"NSW_LOCA_4\", \"DT_RETIRE\"], axis=1, inplace=True)\n",
    "burbs.head(2)"
   ]
  },
  {
   "cell_type": "code",
   "execution_count": null,
   "metadata": {},
   "outputs": [],
   "source": []
  }
 ],
 "metadata": {
  "kernelspec": {
   "display_name": "Python 3",
   "language": "python",
   "name": "python3"
  },
  "language_info": {
   "codemirror_mode": {
    "name": "ipython",
    "version": 3
   },
   "file_extension": ".py",
   "mimetype": "text/x-python",
   "name": "python",
   "nbconvert_exporter": "python",
   "pygments_lexer": "ipython3",
   "version": "3.7.3"
  }
 },
 "nbformat": 4,
 "nbformat_minor": 2
}
